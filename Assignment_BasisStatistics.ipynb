{
  "nbformat": 4,
  "nbformat_minor": 0,
  "metadata": {
    "colab": {
      "name": "Assignment_BasisStatistics.ipynb",
      "provenance": [],
      "collapsed_sections": [],
      "authorship_tag": "ABX9TyOiGER4kF+VsxG8skvSUaJg",
      "include_colab_link": true
    },
    "kernelspec": {
      "name": "python3",
      "display_name": "Python 3"
    },
    "language_info": {
      "name": "python"
    }
  },
  "cells": [
    {
      "cell_type": "markdown",
      "metadata": {
        "id": "view-in-github",
        "colab_type": "text"
      },
      "source": [
        "<a href=\"https://colab.research.google.com/github/Tanmaymandalay/Python-for-DS/blob/main/Assignment_BasisStatistics.ipynb\" target=\"_parent\"><img src=\"https://colab.research.google.com/assets/colab-badge.svg\" alt=\"Open In Colab\"/></a>"
      ]
    },
    {
      "cell_type": "code",
      "metadata": {
        "id": "gKNnR5RHp5km"
      },
      "source": [
        "import pandas as pd\n",
        "import pylab as p\n",
        "import numpy as np\n",
        "from scipy.stats import kurtosis"
      ],
      "execution_count": 1,
      "outputs": []
    },
    {
      "cell_type": "code",
      "metadata": {
        "id": "4D8QhVvpqXXM"
      },
      "source": [
        "data = pd.read_csv(\"Q9_a.csv\")"
      ],
      "execution_count": 4,
      "outputs": []
    },
    {
      "cell_type": "code",
      "metadata": {
        "colab": {
          "base_uri": "https://localhost:8080/"
        },
        "id": "p76yfbK7qnjm",
        "outputId": "8bc8dfd6-7b21-4414-facc-7d43dea6ac63"
      },
      "source": [
        "Kurt = data.kurtosis()\n",
        "print(Kurt)"
      ],
      "execution_count": 6,
      "outputs": [
        {
          "output_type": "stream",
          "text": [
            "Index   -1.200000\n",
            "speed   -0.508994\n",
            "dist     0.405053\n",
            "dtype: float64\n"
          ],
          "name": "stdout"
        }
      ]
    },
    {
      "cell_type": "code",
      "metadata": {
        "colab": {
          "base_uri": "https://localhost:8080/"
        },
        "id": "aclaW_9m2aUM",
        "outputId": "df1992a1-a930-40e9-f861-3ccec246f2d7"
      },
      "source": [
        "skew = data.skew()\n",
        "print(skew)"
      ],
      "execution_count": 7,
      "outputs": [
        {
          "output_type": "stream",
          "text": [
            "Index    0.000000\n",
            "speed   -0.117510\n",
            "dist     0.806895\n",
            "dtype: float64\n"
          ],
          "name": "stdout"
        }
      ]
    },
    {
      "cell_type": "code",
      "metadata": {
        "id": "jX8Ys4MC2oTc"
      },
      "source": [
        "data1 = pd.read_csv(\"Q9_b.csv\")"
      ],
      "execution_count": 8,
      "outputs": []
    },
    {
      "cell_type": "code",
      "metadata": {
        "colab": {
          "base_uri": "https://localhost:8080/"
        },
        "id": "G5l8yHlt3NSl",
        "outputId": "286dc201-8391-4792-8d48-4528d8fe0a4b"
      },
      "source": [
        "Kurt = data1.kurtosis()\n",
        "print(Kurt)"
      ],
      "execution_count": 9,
      "outputs": [
        {
          "output_type": "stream",
          "text": [
            "Unnamed: 0   -1.200000\n",
            "SP            2.977329\n",
            "WT            0.950291\n",
            "dtype: float64\n"
          ],
          "name": "stdout"
        }
      ]
    },
    {
      "cell_type": "code",
      "metadata": {
        "colab": {
          "base_uri": "https://localhost:8080/"
        },
        "id": "9PtVjKHy3QfA",
        "outputId": "7f911f9b-a315-4cea-a666-7f9e409a0a62"
      },
      "source": [
        "skew = data1.skew()\n",
        "print(skew)"
      ],
      "execution_count": 10,
      "outputs": [
        {
          "output_type": "stream",
          "text": [
            "Unnamed: 0    0.000000\n",
            "SP            1.611450\n",
            "WT           -0.614753\n",
            "dtype: float64\n"
          ],
          "name": "stdout"
        }
      ]
    },
    {
      "cell_type": "code",
      "metadata": {
        "id": "j4HlSCY93UAH"
      },
      "source": [
        ""
      ],
      "execution_count": null,
      "outputs": []
    }
  ]
}